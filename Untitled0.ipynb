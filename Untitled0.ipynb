{
  "nbformat": 4,
  "nbformat_minor": 0,
  "metadata": {
    "colab": {
      "provenance": [],
      "authorship_tag": "ABX9TyMwbIbLqV0ZUTZjOfOIYSDh",
      "include_colab_link": true
    },
    "kernelspec": {
      "name": "python3",
      "display_name": "Python 3"
    },
    "language_info": {
      "name": "python"
    }
  },
  "cells": [
    {
      "cell_type": "markdown",
      "metadata": {
        "id": "view-in-github",
        "colab_type": "text"
      },
      "source": [
        "<a href=\"https://colab.research.google.com/github/KIISIISHERE/Loops/blob/main/Untitled0.ipynb\" target=\"_parent\"><img src=\"https://colab.research.google.com/assets/colab-badge.svg\" alt=\"Open In Colab\"/></a>"
      ]
    },
    {
      "cell_type": "code",
      "execution_count": null,
      "metadata": {
        "id": "T7YLs7WporDB"
      },
      "outputs": [],
      "source": [
        "# sum of whole numbers\n",
        "num = int(input(\"Enter a whole number: \"))\n",
        "if num < 0:\n",
        "    print(\"Please enter a non-negative integer.\")\n",
        "else:\n",
        "    total = sum(range(num + 1))\n",
        "    print(f\"The sum of whole numbers up to {num} is {total}\")"
      ]
    },
    {
      "cell_type": "code",
      "source": [
        "#Input a word or sentence\n",
        "string = input(\"Please enter a word : \")\n",
        "string2 = ('')\n",
        "#loop for printing in reverse\n",
        "for i in string:\n",
        "  string2 = i + string2\n",
        "print(\"The Original String = \", string)\n",
        "print(\"The Reversed String = \", string2)"
      ],
      "metadata": {
        "id": "JVDbEEz1pRnj"
      },
      "execution_count": null,
      "outputs": []
    }
  ]
}